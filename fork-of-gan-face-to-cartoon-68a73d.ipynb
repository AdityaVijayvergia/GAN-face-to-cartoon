{
 "cells": [
  {
   "cell_type": "code",
   "execution_count": 1,
   "metadata": {
    "_uuid": "7ffe3d16cdd8117a614c0ca35d8612a2c417381a"
   },
   "outputs": [],
   "source": [
    "!pip install -q tf-nightly"
   ]
  },
  {
   "cell_type": "code",
   "execution_count": 2,
   "metadata": {
    "_uuid": "267600a9f29044d3061a0cfce282d1f9858d6cdc"
   },
   "outputs": [],
   "source": [
    "import tensorflow as tf\n",
    "tf.enable_eager_execution()\n",
    "\n",
    "import numpy as np\n",
    "import glob\n",
    "import imageio\n",
    "import matplotlib.pyplot as plt\n",
    "import numpy as np\n",
    "import os\n",
    "import PIL\n",
    "import time\n",
    "import pathlib\n",
    "import random\n",
    "\n",
    "from IPython import display"
   ]
  },
  {
   "cell_type": "code",
   "execution_count": 3,
   "metadata": {
    "_uuid": "5a70ecd5de9e69437de93d4211cb72dd58d4039a"
   },
   "outputs": [],
   "source": [
    "AUTOTUNE = tf.data.experimental.AUTOTUNE"
   ]
  },
  {
   "cell_type": "code",
   "execution_count": 4,
   "metadata": {
    "_cell_guid": "b1076dfc-b9ad-4769-8c92-a6c4dae69d19",
    "_uuid": "8f2839f25d086af736a60e9eeb907d3b93b6e0e5"
   },
   "outputs": [
    {
     "data": {
      "text/plain": [
       "202599"
      ]
     },
     "execution_count": 4,
     "metadata": {},
     "output_type": "execute_result"
    }
   ],
   "source": [
    "celeb_image_path = os.listdir(\"../input/celeba-dataset/img_align_celeba/img_align_celeba\")\n",
    "celeb_image_path = [os.path.join(\"../input/celeba-dataset/img_align_celeba/img_align_celeba\", x) for x in celeb_image_path]\n",
    "celeb_count = len(celeb_image_path)\n",
    "celeb_count"
   ]
  },
  {
   "cell_type": "code",
   "execution_count": 5,
   "metadata": {
    "_uuid": "69bff7ade2013f4d0df0a66330a6bd7c110f4697"
   },
   "outputs": [
    {
     "data": {
      "text/plain": [
       "10000"
      ]
     },
     "execution_count": 5,
     "metadata": {},
     "output_type": "execute_result"
    }
   ],
   "source": [
    "cartoon_image_path = os.listdir('../input/cartoonfacedatasetzip/cartoon_face_dataset/cartoonset10k')\n",
    "cartoon_image_path = [os.path.join(\"../input/cartoonfacedatasetzip/cartoon_face_dataset/cartoonset10k\", x) for x in cartoon_image_path]\n",
    "\n",
    "cim = []\n",
    "for x in cartoon_image_path:\n",
    "    if x[-3:]=='png':\n",
    "        cim.append(x)\n",
    "cartoon_image_path = cim\n",
    "len(cartoon_image_path)"
   ]
  },
  {
   "cell_type": "code",
   "execution_count": 6,
   "metadata": {
    "_uuid": "f2530b7f040f1d4e8c7ec0627d4c30dd60bb125b"
   },
   "outputs": [
    {
     "name": "stdout",
     "output_type": "stream",
     "text": [
      "10000\n"
     ]
    }
   ],
   "source": [
    "random.shuffle(celeb_image_path)\n",
    "celeb_small_path = celeb_image_path[:10000]\n",
    "print(len(celeb_small_path))"
   ]
  },
  {
   "cell_type": "code",
   "execution_count": 7,
   "metadata": {
    "_uuid": "5c1b8218e987b4689a5f0a0dec962cc3fb87e7a9"
   },
   "outputs": [
    {
     "data": {
      "text/plain": [
       "['../input/celeba-dataset/img_align_celeba/img_align_celeba/161823.jpg',\n",
       " '../input/celeba-dataset/img_align_celeba/img_align_celeba/003496.jpg',\n",
       " '../input/celeba-dataset/img_align_celeba/img_align_celeba/150612.jpg',\n",
       " '../input/celeba-dataset/img_align_celeba/img_align_celeba/071332.jpg',\n",
       " '../input/celeba-dataset/img_align_celeba/img_align_celeba/194568.jpg',\n",
       " '../input/celeba-dataset/img_align_celeba/img_align_celeba/008679.jpg',\n",
       " '../input/celeba-dataset/img_align_celeba/img_align_celeba/133006.jpg',\n",
       " '../input/celeba-dataset/img_align_celeba/img_align_celeba/153953.jpg',\n",
       " '../input/celeba-dataset/img_align_celeba/img_align_celeba/131807.jpg',\n",
       " '../input/celeba-dataset/img_align_celeba/img_align_celeba/002695.jpg']"
      ]
     },
     "execution_count": 7,
     "metadata": {},
     "output_type": "execute_result"
    }
   ],
   "source": [
    "celeb_small_path[:10]"
   ]
  },
  {
   "cell_type": "code",
   "execution_count": 8,
   "metadata": {
    "_kg_hide-output": true,
    "_uuid": "aa4f46a0d52d3fcb4239e9272eb0741b87ad6718"
   },
   "outputs": [
    {
     "data": {
      "text/plain": [
       "'for n in range(3):\\n    image_path = random.choice(celeb_small_path)\\n    print(image_path)\\n    #display.display(display.Image(image_path))\\n    plt.imshow(plt.imread(image_path))\\n    plt.show()'"
      ]
     },
     "execution_count": 8,
     "metadata": {},
     "output_type": "execute_result"
    }
   ],
   "source": [
    "import IPython.display as display\n",
    "\n",
    "\"\"\"for n in range(3):\n",
    "    image_path = random.choice(celeb_small_path)\n",
    "    print(image_path)\n",
    "    #display.display(display.Image(image_path))\n",
    "    plt.imshow(plt.imread(image_path))\n",
    "    plt.show()\"\"\""
   ]
  },
  {
   "cell_type": "markdown",
   "metadata": {
    "_uuid": "6f13428aa4e44729b126d139adc4cee1a20cd1fa"
   },
   "source": [
    "image_path = random.choice(celeb_small_path)\n",
    "celeb_img_raw = tf.read_file(image_path)\n",
    "repr(celeb_img_raw)[:100] +'...'"
   ]
  },
  {
   "cell_type": "markdown",
   "metadata": {
    "_kg_hide-input": false,
    "_uuid": "0a5da0bdb465bf5bbcf56effa3134a036da07ca5"
   },
   "source": [
    "celeb_img_tensor = tf.image.decode_image(celeb_img_raw)\n",
    "print(celeb_img_tensor.shape)\n",
    "print(celeb_img_tensor.dtype)"
   ]
  },
  {
   "cell_type": "markdown",
   "metadata": {
    "_uuid": "5785315d811717db3f7b39df828caa7126f0b79d"
   },
   "source": [
    "celeb_img_final = tf.image.resize_images(celeb_img_tensor, [50, 50])\n",
    "celeb_img_final = celeb_img_final/255.0\n",
    "print(celeb_img_final.shape)\n",
    "print(celeb_img_final.numpy().min())\n",
    "print(celeb_img_final.numpy().max())"
   ]
  },
  {
   "cell_type": "markdown",
   "metadata": {
    "_uuid": "222399dca89f63331e80924bd647a2e3d3ffd25f"
   },
   "source": [
    "plt.imshow(celeb_img_final)"
   ]
  },
  {
   "cell_type": "code",
   "execution_count": 9,
   "metadata": {
    "_uuid": "485b9243b94b084433fe032d7df049ab73719853"
   },
   "outputs": [],
   "source": [
    "def preprocess_image(image):\n",
    "    image = tf.image.decode_jpeg(image, channels=3)\n",
    "    #image = ndi.gaussian_filter(image, 5)\n",
    "    image = tf.image.resize_images(image, [64, 64])\n",
    "    image = tf.image.rgb_to_grayscale(image)\n",
    "    image /= 255.0  # normalize to [0,1] range\n",
    "    return image\n",
    "\n",
    "\n",
    "def load_image(path):\n",
    "    image = tf.read_file(path)\n",
    "    return preprocess_image(image)"
   ]
  },
  {
   "cell_type": "code",
   "execution_count": 10,
   "metadata": {
    "_uuid": "87a1bf1e23b4603d23a1a3f37bb0618c0f3eca6c"
   },
   "outputs": [],
   "source": [
    "celeb_path_ds = tf.data.Dataset.from_tensor_slices(celeb_small_path)\n",
    "celeb_image_ds = celeb_path_ds.map(load_image, num_parallel_calls=AUTOTUNE)"
   ]
  },
  {
   "cell_type": "code",
   "execution_count": 11,
   "metadata": {
    "_uuid": "90a9c98a998baf24e318c40cc814aa0dac560e27"
   },
   "outputs": [],
   "source": [
    "cartoon_path_ds = tf.data.Dataset.from_tensor_slices(cartoon_image_path)\n",
    "cartoon_image_ds = cartoon_path_ds.map(load_image, num_parallel_calls=AUTOTUNE)"
   ]
  },
  {
   "cell_type": "code",
   "execution_count": 12,
   "metadata": {
    "_uuid": "8bad51022f87bf02d0a60135f757ddcdc6b8426c"
   },
   "outputs": [
    {
     "data": {
      "image/png": "[encoded data removed]",
      "text/plain": [
       "<Figure size 432x432 with 4 Axes>"
      ]
     },
     "metadata": {},
     "output_type": "display_data"
    }
   ],
   "source": [
    "plt.figure(figsize=(6,6))\n",
    "for n,image in enumerate(celeb_image_ds.take(4)):\n",
    "    plt.subplot(2,2,n+1)\n",
    "    image = tf.reshape(image, image.shape[:2])\n",
    "    plt.imshow(image, cmap=plt.cm.gray)\n",
    "    plt.grid(False)\n"
   ]
  },
  {
   "cell_type": "code",
   "execution_count": 13,
   "metadata": {
    "_uuid": "0aae11e2397b0c00306b0a53c7572c990944e93b"
   },
   "outputs": [
    {
     "data": {
      "image/png": "[encoded data removed]",
      "text/plain": [
       "<Figure size 432x432 with 4 Axes>"
      ]
     },
     "metadata": {},
     "output_type": "display_data"
    }
   ],
   "source": [
    "plt.figure(figsize=(6,6))\n",
    "for n,image in enumerate(cartoon_image_ds.take(4)):\n",
    "    plt.subplot(2,2,n+1)\n",
    "    image = tf.reshape(image, image.shape[:2])\n",
    "    plt.imshow(image, cmap=plt.cm.gray)\n",
    "    plt.grid(False)\n"
   ]
  },
  {
   "cell_type": "code",
   "execution_count": 14,
   "metadata": {
    "_uuid": "0e6e217452cfe6ed74c673ca81bb9a9104f78884"
   },
   "outputs": [
    {
     "data": {
      "text/plain": [
       "array([[10., 16.],\n",
       "       [10., 16.]])"
      ]
     },
     "execution_count": 14,
     "metadata": {},
     "output_type": "execute_result"
    }
   ],
   "source": [
    "def conv(img, f):\n",
    "    x = f.shape[0]\n",
    "    y = img.shape[0]\n",
    "    ci = np.zeros((y-x+1,y-x+1))\n",
    "    #print(ci)\n",
    "    for i in range(y-x+1):\n",
    "        for j in range(y-x+1):\n",
    "            ci[i,j] = np.sum(f * img[i:i+x,j:j+x])\n",
    "    return ci\n",
    "\n",
    "conv(np.array([[1,2,3],[1,2,3],[1,2,3]]), np.array([[1,2],[1,2]]))"
   ]
  },
  {
   "cell_type": "code",
   "execution_count": 15,
   "metadata": {
    "_uuid": "bafd670243d0eab575c83b96be49a1ce0e601601"
   },
   "outputs": [
    {
     "data": {
      "text/plain": [
       "'from skimage import feature\\nfrom scipy import ndimage as ndi\\n\\nfor img in image_ds.take(4):\\n    fig, (ax1, ax2, ax3) = plt.subplots(nrows=1, ncols=3, figsize=(20, 4),\\n                                    sharex=True, sharey=True)\\n    \\n    im2 = tf.image.resize_images(img, [50, 50])\\n    im2 = tf.image.rgb_to_grayscale(im2)\\n    im2 = tf.reshape(im2, im2.shape[:2])\\n    ax1.imshow(im2, cmap=plt.cm.gray)\\n    \\n    \\n    im1 = ndi.gaussian_filter(img, 3)\\n    im1 = tf.image.resize_images(im1, [50, 50])\\n    im1 = tf.image.rgb_to_grayscale(im1)\\n    im1 = tf.reshape(im1, im1.shape[:2])\\n    \\n    ax2.imshow(im1, cmap=plt.cm.gray)\\n    \\n    fil = np.array([\\n        [0.5,4,0.5],\\n        [4,20,4],\\n        [0.5,4,0.5]\\n    ])\\n    fil = fil/np.sum(fil)\\n    \\n    #ci = conv(img, fil)\\n    #ax3.imshow(ci, cmap=plt.cm.gray)\\n    \\n    im1 = ndi.gaussian_filter(img, 4)\\n    im1 = tf.image.resize_images(im1, [50, 50])\\n    im1 = tf.image.rgb_to_grayscale(im1)\\n    im1 = tf.reshape(im1, im1.shape[:2])\\n    \\n    ax3.imshow(im1, cmap=plt.cm.gray)\\n    \\n    fig.tight_layout()\\n    plt.show()\\n    '"
      ]
     },
     "execution_count": 15,
     "metadata": {},
     "output_type": "execute_result"
    }
   ],
   "source": [
    "'''from skimage import feature\n",
    "from scipy import ndimage as ndi\n",
    "\n",
    "for img in image_ds.take(4):\n",
    "    fig, (ax1, ax2, ax3) = plt.subplots(nrows=1, ncols=3, figsize=(20, 4),\n",
    "                                    sharex=True, sharey=True)\n",
    "    \n",
    "    im2 = tf.image.resize_images(img, [50, 50])\n",
    "    im2 = tf.image.rgb_to_grayscale(im2)\n",
    "    im2 = tf.reshape(im2, im2.shape[:2])\n",
    "    ax1.imshow(im2, cmap=plt.cm.gray)\n",
    "    \n",
    "    \n",
    "    im1 = ndi.gaussian_filter(img, 3)\n",
    "    im1 = tf.image.resize_images(im1, [50, 50])\n",
    "    im1 = tf.image.rgb_to_grayscale(im1)\n",
    "    im1 = tf.reshape(im1, im1.shape[:2])\n",
    "    \n",
    "    ax2.imshow(im1, cmap=plt.cm.gray)\n",
    "    \n",
    "    fil = np.array([\n",
    "        [0.5,4,0.5],\n",
    "        [4,20,4],\n",
    "        [0.5,4,0.5]\n",
    "    ])\n",
    "    fil = fil/np.sum(fil)\n",
    "    \n",
    "    #ci = conv(img, fil)\n",
    "    #ax3.imshow(ci, cmap=plt.cm.gray)\n",
    "    \n",
    "    im1 = ndi.gaussian_filter(img, 4)\n",
    "    im1 = tf.image.resize_images(im1, [50, 50])\n",
    "    im1 = tf.image.rgb_to_grayscale(im1)\n",
    "    im1 = tf.reshape(im1, im1.shape[:2])\n",
    "    \n",
    "    ax3.imshow(im1, cmap=plt.cm.gray)\n",
    "    \n",
    "    fig.tight_layout()\n",
    "    plt.show()\n",
    "    '''"
   ]
  },
  {
   "cell_type": "code",
   "execution_count": 16,
   "metadata": {
    "_uuid": "a4f70cd2229ad0b0bc59da22c2410608077589c3"
   },
   "outputs": [
    {
     "data": {
      "text/plain": [
       "<tf.Tensor: id=114, shape=(1, 3, 3, 1), dtype=float32, numpy=\n",
       "array([[[[0.0625],\n",
       "         [0.125 ],\n",
       "         [0.0625]],\n",
       "\n",
       "        [[0.125 ],\n",
       "         [0.25  ],\n",
       "         [0.125 ]],\n",
       "\n",
       "        [[0.0625],\n",
       "         [0.125 ],\n",
       "         [0.0625]]]], dtype=float32)>"
      ]
     },
     "execution_count": 16,
     "metadata": {},
     "output_type": "execute_result"
    }
   ],
   "source": [
    "fil = np.array([\n",
    "        [1,2,1],\n",
    "        [2,4,2],\n",
    "        [1,2,1]\n",
    "    ])\n",
    "fil = fil/np.sum(fil)\n",
    "fil = tf.reshape(fil, [1,3,3,1])\n",
    "tf.cast(fil, tf.float32)"
   ]
  },
  {
   "cell_type": "code",
   "execution_count": 17,
   "metadata": {
    "_uuid": "b61ef7db0b595e46e9c99ec2af052fd614b93653"
   },
   "outputs": [],
   "source": []
  },
  {
   "cell_type": "code",
   "execution_count": 17,
   "metadata": {
    "_uuid": "6b48f5ee87438212083b4b3fd26182e7479e0a16"
   },
   "outputs": [
    {
     "data": {
      "text/plain": [
       "<DatasetV1Adapter shapes: (?, 64, 64, 1), types: tf.float32>"
      ]
     },
     "execution_count": 17,
     "metadata": {},
     "output_type": "execute_result"
    }
   ],
   "source": [
    "celeb_BATCH_SIZE = 64\n",
    "celeb_ds = celeb_image_ds.apply(tf.data.experimental.shuffle_and_repeat(buffer_size=len(celeb_small_path)))\n",
    "celeb_ds = celeb_ds.batch(celeb_BATCH_SIZE)\n",
    "# `prefetch` lets the dataset fetch batches, in the background while the model is training.\n",
    "celeb_ds = celeb_ds.prefetch(buffer_size=AUTOTUNE)\n",
    "celeb_ds"
   ]
  },
  {
   "cell_type": "code",
   "execution_count": 18,
   "metadata": {
    "_uuid": "c7329a17b40f42f0a4150749c1c8f8ccd16215a2"
   },
   "outputs": [
    {
     "data": {
      "text/plain": [
       "<DatasetV1Adapter shapes: (?, 64, 64, 1), types: tf.float32>"
      ]
     },
     "execution_count": 18,
     "metadata": {},
     "output_type": "execute_result"
    }
   ],
   "source": [
    "cartoon_BATCH_SIZE = 64\n",
    "cartoon_ds = cartoon_image_ds.apply(tf.data.experimental.shuffle_and_repeat(buffer_size=len(cartoon_image_path)))\n",
    "cartoon_ds = cartoon_ds.batch(cartoon_BATCH_SIZE)\n",
    "# `prefetch` lets the dataset fetch batches, in the background while the model is training.\n",
    "cartoon_ds = cartoon_ds.prefetch(buffer_size=AUTOTUNE)\n",
    "cartoon_ds"
   ]
  },
  {
   "cell_type": "code",
   "execution_count": 19,
   "metadata": {
    "_uuid": "759fe744875c17e229794e76885b4ca158f0ca6b"
   },
   "outputs": [
    {
     "data": {
      "text/plain": [
       "'i = 0\\nstart = time.time()\\nfor cartoon in cartoon_ds:\\n    print(time.time()-start)\\n    start = time.time()\\n    print(cartoon.shape)\\n    i = i + 1\\n    if i==3:\\n        break\\n'"
      ]
     },
     "execution_count": 19,
     "metadata": {},
     "output_type": "execute_result"
    }
   ],
   "source": [
    "\"\"\"i = 0\n",
    "start = time.time()\n",
    "for cartoon in cartoon_ds:\n",
    "    print(time.time()-start)\n",
    "    start = time.time()\n",
    "    print(cartoon.shape)\n",
    "    i = i + 1\n",
    "    if i==3:\n",
    "        break\n",
    "\"\"\""
   ]
  },
  {
   "cell_type": "code",
   "execution_count": 20,
   "metadata": {
    "_uuid": "4590474b699bf7e336241e99d134002e511ee0f4"
   },
   "outputs": [
    {
     "name": "stdout",
     "output_type": "stream",
     "text": [
      "(64, 64, 64, 1)\n",
      "(64, 64, 64, 1)\n"
     ]
    }
   ],
   "source": [
    "for cartoon in cartoon_ds:\n",
    "    test_cartoon = cartoon\n",
    "    break\n",
    "for celeb in celeb_ds:\n",
    "    test_celeb = celeb\n",
    "    break\n",
    "    \n",
    "print(test_cartoon.shape)\n",
    "print(test_celeb.shape)"
   ]
  },
  {
   "cell_type": "code",
   "execution_count": 21,
   "metadata": {
    "_uuid": "ecb032b1f3dd565dd49ca69c9a66e5821ae5b913"
   },
   "outputs": [],
   "source": [
    "test_cartoon = test_cartoon[:4]\n",
    "test_celeb = test_celeb[:4]"
   ]
  },
  {
   "cell_type": "code",
   "execution_count": 22,
   "metadata": {
    "_uuid": "c9a0baaaa04e431b5138e9a68dc73a6c7bd2f318"
   },
   "outputs": [],
   "source": [
    "def make_generator_model():\n",
    "    #size down\n",
    "    model = tf.keras.Sequential()\n",
    "    \n",
    "    model.add(tf.keras.layers.Conv2D(32,(3,3), input_shape = (64,64,1), padding='same'))\n",
    "    model.add(tf.keras.layers.LeakyReLU())\n",
    "    model.add(tf.keras.layers.Dropout(0.3))\n",
    "    \n",
    "    model.add(tf.keras.layers.Conv2D(64,(3,3), padding='same'))    \n",
    "    model.add(tf.keras.layers.LeakyReLU())\n",
    "    model.add(tf.keras.layers.Dropout(0.3))\n",
    "    \n",
    "    model.add(tf.keras.layers.Conv2D(64,(5,5), padding='same'))\n",
    "    model.add(tf.keras.layers.LeakyReLU())\n",
    "    model.add(tf.keras.layers.Dropout(0.3))\n",
    "    \n",
    "    model.add(tf.keras.layers.Conv2D(64,(5,5), padding='same'))    \n",
    "    model.add(tf.keras.layers.LeakyReLU())\n",
    "    model.add(tf.keras.layers.Dropout(0.3))\n",
    "    \n",
    "    model.add(tf.keras.layers.Conv2D(64,(5,5), padding='same'))\n",
    "    model.add(tf.keras.layers.LeakyReLU())\n",
    "    model.add(tf.keras.layers.Dropout(0.3))\n",
    "    \n",
    "    model.add(tf.keras.layers.Conv2D(32,(3,3), padding='same'))    \n",
    "    model.add(tf.keras.layers.LeakyReLU())\n",
    "    model.add(tf.keras.layers.Dropout(0.3))\n",
    "    \n",
    "    model.add(tf.keras.layers.Conv2D(1,(3, 3), padding='same', activation='relu'))\n",
    "\n",
    "    return model"
   ]
  },
  {
   "cell_type": "code",
   "execution_count": 23,
   "metadata": {
    "_uuid": "5ca58194f6e0871b8caec93d3b875f99e4f9dc53",
    "scrolled": false
   },
   "outputs": [
    {
     "name": "stdout",
     "output_type": "stream",
     "text": [
      "Model: \"sequential\"\n",
      "_________________________________________________________________\n",
      "Layer (type)                 Output Shape              Param #   \n",
      "=================================================================\n",
      "conv2d (Conv2D)              (None, 64, 64, 32)        320       \n",
      "_________________________________________________________________\n",
      "leaky_re_lu (LeakyReLU)      (None, 64, 64, 32)        0         \n",
      "_________________________________________________________________\n",
      "dropout (Dropout)            (None, 64, 64, 32)        0         \n",
      "_________________________________________________________________\n",
      "conv2d_1 (Conv2D)            (None, 64, 64, 64)        18496     \n",
      "_________________________________________________________________\n",
      "leaky_re_lu_1 (LeakyReLU)    (None, 64, 64, 64)        0         \n",
      "_________________________________________________________________\n",
      "dropout_1 (Dropout)          (None, 64, 64, 64)        0         \n",
      "_________________________________________________________________\n",
      "conv2d_2 (Conv2D)            (None, 64, 64, 64)        102464    \n",
      "_________________________________________________________________\n",
      "leaky_re_lu_2 (LeakyReLU)    (None, 64, 64, 64)        0         \n",
      "_________________________________________________________________\n",
      "dropout_2 (Dropout)          (None, 64, 64, 64)        0         \n",
      "_________________________________________________________________\n",
      "conv2d_3 (Conv2D)            (None, 64, 64, 64)        102464    \n",
      "_________________________________________________________________\n",
      "leaky_re_lu_3 (LeakyReLU)    (None, 64, 64, 64)        0         \n",
      "_________________________________________________________________\n",
      "dropout_3 (Dropout)          (None, 64, 64, 64)        0         \n",
      "_________________________________________________________________\n",
      "conv2d_4 (Conv2D)            (None, 64, 64, 64)        102464    \n",
      "_________________________________________________________________\n",
      "leaky_re_lu_4 (LeakyReLU)    (None, 64, 64, 64)        0         \n",
      "_________________________________________________________________\n",
      "dropout_4 (Dropout)          (None, 64, 64, 64)        0         \n",
      "_________________________________________________________________\n",
      "conv2d_5 (Conv2D)            (None, 64, 64, 32)        18464     \n",
      "_________________________________________________________________\n",
      "leaky_re_lu_5 (LeakyReLU)    (None, 64, 64, 32)        0         \n",
      "_________________________________________________________________\n",
      "dropout_5 (Dropout)          (None, 64, 64, 32)        0         \n",
      "_________________________________________________________________\n",
      "conv2d_6 (Conv2D)            (None, 64, 64, 1)         289       \n",
      "=================================================================\n",
      "Total params: 344,961\n",
      "Trainable params: 344,961\n",
      "Non-trainable params: 0\n",
      "_________________________________________________________________\n"
     ]
    }
   ],
   "source": [
    "generator = make_generator_model()\n",
    "generator.summary()"
   ]
  },
  {
   "cell_type": "code",
   "execution_count": 24,
   "metadata": {
    "_uuid": "c1d76abc3a4d6e336411e8d6d1e38caaa394589e"
   },
   "outputs": [
    {
     "data": {
      "image/png": "[encoded data removed]",
      "text/plain": [
       "<Figure size 432x432 with 4 Axes>"
      ]
     },
     "metadata": {},
     "output_type": "display_data"
    }
   ],
   "source": [
    "plt.figure(figsize=(6,6))\n",
    "for n,image in enumerate(test_cartoon):\n",
    "    plt.subplot(2,2,n+1)\n",
    "    image = tf.reshape(image, image.shape[:2])\n",
    "    plt.imshow(image, cmap=plt.cm.gray)\n",
    "    plt.grid(False)"
   ]
  },
  {
   "cell_type": "code",
   "execution_count": 25,
   "metadata": {
    "_uuid": "a8923cb147e6dbd7b7fc28b2668b593f10ee76b2"
   },
   "outputs": [
    {
     "data": {
      "image/png": "[encoded data removed]",
      "text/plain": [
       "<Figure size 432x432 with 4 Axes>"
      ]
     },
     "metadata": {},
     "output_type": "display_data"
    }
   ],
   "source": [
    "gen_out = generator(test_celeb)\n",
    "plt.figure(figsize=(6,6))\n",
    "for n,image in enumerate(gen_out):\n",
    "    plt.subplot(2,2,n+1)\n",
    "    image = tf.reshape(image, image.shape[:2])\n",
    "    plt.imshow(image, cmap=plt.cm.gray)\n",
    "    plt.grid(False)"
   ]
  },
  {
   "cell_type": "code",
   "execution_count": 26,
   "metadata": {
    "_uuid": "afd9586338c97cc6c3726c8bb06b81e959e18dda"
   },
   "outputs": [],
   "source": [
    "def make_discriminator_model():\n",
    "    model = tf.keras.Sequential()\n",
    "    model.add(tf.keras.layers.Conv2D(32, (7, 7), input_shape=(64,64,1)))\n",
    "    model.add(tf.keras.layers.LeakyReLU())\n",
    "    model.add(tf.keras.layers.Dropout(0.3))\n",
    "    \n",
    "    model.add(tf.keras.layers.MaxPooling2D((2, 2)))\n",
    "      \n",
    "    model.add(tf.keras.layers.Conv2D(64, (5, 5)))\n",
    "    model.add(tf.keras.layers.LeakyReLU())\n",
    "    model.add(tf.keras.layers.Dropout(0.3))\n",
    "\n",
    "    model.add(tf.keras.layers.MaxPooling2D((2, 2)))\n",
    "    \n",
    "    model.add(tf.keras.layers.Conv2D(64, (3, 3)))\n",
    "    model.add(tf.keras.layers.LeakyReLU())\n",
    "    model.add(tf.keras.layers.Dropout(0.3))\n",
    "    \n",
    "    model.add(tf.keras.layers.MaxPooling2D((2, 2)))\n",
    "    \n",
    "    model.add(tf.keras.layers.Conv2D(128, (3, 3)))\n",
    "    model.add(tf.keras.layers.LeakyReLU())\n",
    "    model.add(tf.keras.layers.Dropout(0.3))\n",
    "       \n",
    "    model.add(tf.keras.layers.Flatten())\n",
    "    model.add(tf.keras.layers.Dense(64)) \n",
    "    model.add(tf.keras.layers.Dense(1,activation='sigmoid'))\n",
    "     \n",
    "    return model"
   ]
  },
  {
   "cell_type": "code",
   "execution_count": 27,
   "metadata": {
    "_uuid": "29d76fe301920041533080115ba31a4a7362e806"
   },
   "outputs": [
    {
     "name": "stdout",
     "output_type": "stream",
     "text": [
      "Model: \"sequential_1\"\n",
      "_________________________________________________________________\n",
      "Layer (type)                 Output Shape              Param #   \n",
      "=================================================================\n",
      "conv2d_7 (Conv2D)            (None, 58, 58, 32)        1600      \n",
      "_________________________________________________________________\n",
      "leaky_re_lu_6 (LeakyReLU)    (None, 58, 58, 32)        0         \n",
      "_________________________________________________________________\n",
      "dropout_6 (Dropout)          (None, 58, 58, 32)        0         \n",
      "_________________________________________________________________\n",
      "max_pooling2d (MaxPooling2D) (None, 29, 29, 32)        0         \n",
      "_________________________________________________________________\n",
      "conv2d_8 (Conv2D)            (None, 25, 25, 64)        51264     \n",
      "_________________________________________________________________\n",
      "leaky_re_lu_7 (LeakyReLU)    (None, 25, 25, 64)        0         \n",
      "_________________________________________________________________\n",
      "dropout_7 (Dropout)          (None, 25, 25, 64)        0         \n",
      "_________________________________________________________________\n",
      "max_pooling2d_1 (MaxPooling2 (None, 12, 12, 64)        0         \n",
      "_________________________________________________________________\n",
      "conv2d_9 (Conv2D)            (None, 10, 10, 64)        36928     \n",
      "_________________________________________________________________\n",
      "leaky_re_lu_8 (LeakyReLU)    (None, 10, 10, 64)        0         \n",
      "_________________________________________________________________\n",
      "dropout_8 (Dropout)          (None, 10, 10, 64)        0         \n",
      "_________________________________________________________________\n",
      "max_pooling2d_2 (MaxPooling2 (None, 5, 5, 64)          0         \n",
      "_________________________________________________________________\n",
      "conv2d_10 (Conv2D)           (None, 3, 3, 128)         73856     \n",
      "_________________________________________________________________\n",
      "leaky_re_lu_9 (LeakyReLU)    (None, 3, 3, 128)         0         \n",
      "_________________________________________________________________\n",
      "dropout_9 (Dropout)          (None, 3, 3, 128)         0         \n",
      "_________________________________________________________________\n",
      "flatten (Flatten)            (None, 1152)              0         \n",
      "_________________________________________________________________\n",
      "dense (Dense)                (None, 64)                73792     \n",
      "_________________________________________________________________\n",
      "dense_1 (Dense)              (None, 1)                 65        \n",
      "=================================================================\n",
      "Total params: 237,505\n",
      "Trainable params: 237,505\n",
      "Non-trainable params: 0\n",
      "_________________________________________________________________\n"
     ]
    }
   ],
   "source": [
    "discriminator = make_discriminator_model()\n",
    "discriminator.summary()"
   ]
  },
  {
   "cell_type": "code",
   "execution_count": 28,
   "metadata": {
    "_uuid": "0dd27dd035b47bebefa0f2bb7d0aaf59b8da873d"
   },
   "outputs": [],
   "source": [
    "def generator_loss(generated_output):\n",
    "    return tf.losses.sigmoid_cross_entropy(tf.ones_like(generated_output), generated_output)"
   ]
  },
  {
   "cell_type": "code",
   "execution_count": 29,
   "metadata": {
    "_uuid": "744ddf707291c287b770721ec8362ec6b978e1d8"
   },
   "outputs": [],
   "source": [
    "def discriminator_loss(real_out, generated_out, fake_out):\n",
    "    real_loss = tf.losses.sigmoid_cross_entropy(tf.ones_like(real_out), real_out)\n",
    "    generated_loss = tf.losses.sigmoid_cross_entropy(tf.zeros_like(generated_out), generated_out)\n",
    "    fake_loss = tf.losses.sigmoid_cross_entropy(tf.zeros_like(fake_out), fake_out)\n",
    "    total_loss = 2 * real_loss + generated_loss + fake_loss\n",
    "    return total_loss"
   ]
  },
  {
   "cell_type": "code",
   "execution_count": 30,
   "metadata": {
    "_uuid": "ea669465f9891f0c278ebacf763b786606035dfe"
   },
   "outputs": [],
   "source": [
    "g_optimizer = tf.train.AdamOptimizer(8e-5)\n",
    "d_optimizer = tf.train.AdamOptimizer(1e-4)"
   ]
  },
  {
   "cell_type": "code",
   "execution_count": 31,
   "metadata": {
    "_uuid": "fa9587bf1cde3489cab930135963463d7d0d65c5"
   },
   "outputs": [],
   "source": []
  },
  {
   "cell_type": "code",
   "execution_count": 31,
   "metadata": {
    "_uuid": "f0565bea6717998a05e5fa279957b29c71026cf8"
   },
   "outputs": [],
   "source": [
    "EPOCHS = 100"
   ]
  },
  {
   "cell_type": "code",
   "execution_count": 32,
   "metadata": {
    "_uuid": "9fefce4fa900852403b7242df262084ee344855c"
   },
   "outputs": [],
   "source": [
    "def train_step(cartoon_images, celeb_images):\n",
    "    \n",
    "    with tf.GradientTape() as gen_tape, tf.GradientTape() as dis_tape:\n",
    "        \n",
    "        generated_images = generator(celeb_images, training = True)\n",
    "        #print(generated_images.shape)\n",
    "        \n",
    "        real_out = discriminator(cartoon_images, training =True)\n",
    "        generated_out = discriminator(generated_images, training = True)\n",
    "        fake_out = discriminator(celeb_images, training = True)\n",
    "        \n",
    "        gen_loss = generator_loss(generated_out)\n",
    "        dis_loss = discriminator_loss(real_out, generated_out, fake_out)\n",
    "\n",
    "    \n",
    "    gen_grad = gen_tape.gradient(gen_loss, generator.variables)\n",
    "    dis_grad = dis_tape.gradient(dis_loss, discriminator.variables)\n",
    "    \n",
    "    #print(gen_grad)\n",
    "    \n",
    "    g_optimizer.apply_gradients(zip(gen_grad, generator.variables))\n",
    "    d_optimizer.apply_gradients(zip(dis_grad, discriminator.variables))\n",
    "        "
   ]
  },
  {
   "cell_type": "code",
   "execution_count": 33,
   "metadata": {
    "_uuid": "15f3650de7811c6a74b0aacb800e1a22960957d4"
   },
   "outputs": [
    {
     "name": "stdout",
     "output_type": "stream",
     "text": [
      "\n",
      "WARNING: The TensorFlow contrib module will not be included in TensorFlow 2.0.\n",
      "For more information, please see:\n",
      "  * https://github.com/tensorflow/community/blob/master/rfcs/20180907-contrib-sunset.md\n",
      "  * https://github.com/tensorflow/addons\n",
      "If you depend on functionality not listed there, please file an issue.\n",
      "\n"
     ]
    }
   ],
   "source": [
    "train_step = tf.contrib.eager.defun(train_step)"
   ]
  },
  {
   "cell_type": "code",
   "execution_count": 34,
   "metadata": {
    "_uuid": "1bb8ce66f032d7ac91d4a0a1773e382d5f1b2988"
   },
   "outputs": [],
   "source": [
    "def generate_test_prediction(model, epoch):\n",
    "    # make sure the training parameter is set to False because we\n",
    "    # don't want to train the batchnorm layer when doing inference.\n",
    "    \n",
    "    gen_out = generator(test_celeb)\n",
    "    plt.figure(figsize=(6,6))\n",
    "    for n,image in enumerate(gen_out):\n",
    "        plt.subplot(2,2,n+1)\n",
    "        image = tf.reshape(image, image.shape[:2])\n",
    "        plt.imshow(image, cmap=plt.cm.gray)\n",
    "        plt.grid(False)\n",
    "    plt.show()\n",
    "    print(discriminator(gen_out))\n",
    "    print(discriminator(test_cartoon))\n",
    "    plt.savefig('image_at_epoch_{:04d}.png'.format(epoch))"
   ]
  },
  {
   "cell_type": "code",
   "execution_count": 35,
   "metadata": {
    "_uuid": "a188eca4cba199bc0d21a0b687aa6b50cb014194"
   },
   "outputs": [
    {
     "data": {
      "image/png": "[encoded data removed]",
      "text/plain": [
       "<Figure size 432x432 with 4 Axes>"
      ]
     },
     "metadata": {},
     "output_type": "display_data"
    },
    {
     "name": "stdout",
     "output_type": "stream",
     "text": [
      "tf.Tensor(\n",
      "[[0.5000952 ]\n",
      " [0.50030303]\n",
      " [0.5002736 ]\n",
      " [0.5001881 ]], shape=(4, 1), dtype=float32)\n",
      "tf.Tensor(\n",
      "[[0.5372051 ]\n",
      " [0.53741497]\n",
      " [0.5440796 ]\n",
      " [0.5364889 ]], shape=(4, 1), dtype=float32)\n"
     ]
    },
    {
     "data": {
      "text/plain": [
       "<Figure size 432x288 with 0 Axes>"
      ]
     },
     "metadata": {},
     "output_type": "display_data"
    }
   ],
   "source": [
    "generate_test_prediction(generator,1)"
   ]
  },
  {
   "cell_type": "code",
   "execution_count": 36,
   "metadata": {
    "_uuid": "cdf0f35753068a05bd97112e2bfa7a42cc0b2615"
   },
   "outputs": [],
   "source": [
    "def train(epochs):\n",
    "    epoch = 0\n",
    "    start = time.time()\n",
    "    for cartoon_images, celeb_images in zip(cartoon_ds, celeb_ds):\n",
    "        train_step(cartoon_images, celeb_images)\n",
    "        epoch = epoch + 1\n",
    "        if(epoch%5==0):\n",
    "            display.clear_output(wait = True)\n",
    "            generate_test_prediction(generator, epoch)\n",
    "        print ('Time taken for epoch {} is {} sec'.format(epoch, time.time()-start))\n",
    "        start = time.time()\n",
    "        if epoch == epochs:\n",
    "            break"
   ]
  },
  {
   "cell_type": "code",
   "execution_count": 37,
   "metadata": {
    "_uuid": "09b8cf830f5347b8da56ed4b75909e4bea094ec1",
    "scrolled": false
   },
   "outputs": [
    {
     "data": {
      "text/plain": [
       "<Figure size 432x288 with 0 Axes>"
      ]
     },
     "metadata": {},
     "output_type": "display_data"
    },
    {
     "data": {
      "image/png": "[encoded data removed]",
      "text/plain": [
       "<Figure size 432x432 with 4 Axes>"
      ]
     },
     "metadata": {},
     "output_type": "display_data"
    },
    {
     "name": "stdout",
     "output_type": "stream",
     "text": [
      "tf.Tensor(\n",
      "[[0.44662938]\n",
      " [0.44662938]\n",
      " [0.44663113]\n",
      " [0.44662938]], shape=(4, 1), dtype=float32)\n",
      "tf.Tensor(\n",
      "[[0.8319214 ]\n",
      " [0.841761  ]\n",
      " [0.82226145]\n",
      " [0.78573596]], shape=(4, 1), dtype=float32)\n",
      "Time taken for epoch 50 is 24.647582530975342 sec\n",
      "CPU times: user 39min 26s, sys: 1min 3s, total: 40min 29s\n",
      "Wall time: 20min 41s\n"
     ]
    },
    {
     "data": {
      "text/plain": [
       "<Figure size 432x288 with 0 Axes>"
      ]
     },
     "metadata": {},
     "output_type": "display_data"
    }
   ],
   "source": [
    "%%time\n",
    "train(50)"
   ]
  },
  {
   "cell_type": "code",
   "execution_count": 38,
   "metadata": {
    "_uuid": "08b79f5009feb974a5ce06cc85e93b9fddd47e36"
   },
   "outputs": [
    {
     "data": {
      "text/plain": [
       "<tf.Tensor: id=4624, shape=(4, 1), dtype=float32, numpy=\n",
       "array([[0.44662938],\n",
       "       [0.44662938],\n",
       "       [0.44663113],\n",
       "       [0.44662938]], dtype=float32)>"
      ]
     },
     "execution_count": 38,
     "metadata": {},
     "output_type": "execute_result"
    }
   ],
   "source": [
    "discriminator(generator(test_celeb))"
   ]
  },
  {
   "cell_type": "code",
   "execution_count": 39,
   "metadata": {
    "_uuid": "a0d5afbbc18cd30e1fb941379a61e87446d7ffcb"
   },
   "outputs": [
    {
     "data": {
      "text/plain": [
       "<tf.Tensor: id=4659, shape=(4, 1), dtype=float32, numpy=\n",
       "array([[0.8319214 ],\n",
       "       [0.841761  ],\n",
       "       [0.82226145],\n",
       "       [0.78573596]], dtype=float32)>"
      ]
     },
     "execution_count": 39,
     "metadata": {},
     "output_type": "execute_result"
    }
   ],
   "source": [
    "discriminator(test_cartoon)"
   ]
  },
  {
   "cell_type": "code",
   "execution_count": 40,
   "metadata": {
    "_uuid": "4609bef150abfc18dbbb3b91a4cd6d4d0cbc035d"
   },
   "outputs": [],
   "source": []
  }
 ],
 "metadata": {
  "kernelspec": {
   "display_name": "Python 3",
   "language": "python",
   "name": "python3"
  },
  "language_info": {
   "codemirror_mode": {
    "name": "ipython",
    "version": 3
   },
   "file_extension": ".py",
   "mimetype": "text/x-python",
   "name": "python",
   "nbconvert_exporter": "python",
   "pygments_lexer": "ipython3",
   "version": "3.6.6"
  }
 },
 "nbformat": 4,
 "nbformat_minor": 1
}
